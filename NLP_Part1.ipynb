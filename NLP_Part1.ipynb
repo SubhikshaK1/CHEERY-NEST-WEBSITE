{
  "nbformat": 4,
  "nbformat_minor": 0,
  "metadata": {
    "colab": {
      "provenance": [],
      "authorship_tag": "ABX9TyPhNkzdn59SM8Jnu97SWJkU",
      "include_colab_link": true
    },
    "kernelspec": {
      "name": "python3",
      "display_name": "Python 3"
    },
    "language_info": {
      "name": "python"
    }
  },
  "cells": [
    {
      "cell_type": "markdown",
      "metadata": {
        "id": "view-in-github",
        "colab_type": "text"
      },
      "source": [
        "<a href=\"https://colab.research.google.com/github/SubhikshaK1/CHEERY-NEST-WEBSITE/blob/main/NLP_Part1.ipynb\" target=\"_parent\"><img src=\"https://colab.research.google.com/assets/colab-badge.svg\" alt=\"Open In Colab\"/></a>"
      ]
    },
    {
      "cell_type": "code",
      "execution_count": 13,
      "metadata": {
        "colab": {
          "base_uri": "https://localhost:8080/"
        },
        "id": "PkMHFBkL-Jun",
        "outputId": "c81de727-c607-4ec1-9206-84b6494415a4"
      },
      "outputs": [
        {
          "output_type": "stream",
          "name": "stderr",
          "text": [
            "[nltk_data] Downloading package punkt to /root/nltk_data...\n",
            "[nltk_data]   Package punkt is already up-to-date!\n"
          ]
        },
        {
          "output_type": "execute_result",
          "data": {
            "text/plain": [
              "True"
            ]
          },
          "metadata": {},
          "execution_count": 13
        }
      ],
      "source": [
        "import nltk\n",
        "nltk.download('punkt')"
      ]
    },
    {
      "cell_type": "code",
      "source": [
        "#1. Wrote a paragraph about AGI and save this as agi.text file.\n",
        "from google.colab import files\n",
        "upld=files.upload()"
      ],
      "metadata": {
        "colab": {
          "base_uri": "https://localhost:8080/",
          "height": 72
        },
        "id": "wDfZn33ZAeS_",
        "outputId": "028112eb-7567-48df-a651-233cc41e7688"
      },
      "execution_count": 14,
      "outputs": [
        {
          "output_type": "display_data",
          "data": {
            "text/plain": [
              "<IPython.core.display.HTML object>"
            ],
            "text/html": [
              "\n",
              "     <input type=\"file\" id=\"files-7ebe8fef-5454-4532-8d4a-c18cef919dd3\" name=\"files[]\" multiple disabled\n",
              "        style=\"border:none\" />\n",
              "     <output id=\"result-7ebe8fef-5454-4532-8d4a-c18cef919dd3\">\n",
              "      Upload widget is only available when the cell has been executed in the\n",
              "      current browser session. Please rerun this cell to enable.\n",
              "      </output>\n",
              "      <script>// Copyright 2017 Google LLC\n",
              "//\n",
              "// Licensed under the Apache License, Version 2.0 (the \"License\");\n",
              "// you may not use this file except in compliance with the License.\n",
              "// You may obtain a copy of the License at\n",
              "//\n",
              "//      http://www.apache.org/licenses/LICENSE-2.0\n",
              "//\n",
              "// Unless required by applicable law or agreed to in writing, software\n",
              "// distributed under the License is distributed on an \"AS IS\" BASIS,\n",
              "// WITHOUT WARRANTIES OR CONDITIONS OF ANY KIND, either express or implied.\n",
              "// See the License for the specific language governing permissions and\n",
              "// limitations under the License.\n",
              "\n",
              "/**\n",
              " * @fileoverview Helpers for google.colab Python module.\n",
              " */\n",
              "(function(scope) {\n",
              "function span(text, styleAttributes = {}) {\n",
              "  const element = document.createElement('span');\n",
              "  element.textContent = text;\n",
              "  for (const key of Object.keys(styleAttributes)) {\n",
              "    element.style[key] = styleAttributes[key];\n",
              "  }\n",
              "  return element;\n",
              "}\n",
              "\n",
              "// Max number of bytes which will be uploaded at a time.\n",
              "const MAX_PAYLOAD_SIZE = 100 * 1024;\n",
              "\n",
              "function _uploadFiles(inputId, outputId) {\n",
              "  const steps = uploadFilesStep(inputId, outputId);\n",
              "  const outputElement = document.getElementById(outputId);\n",
              "  // Cache steps on the outputElement to make it available for the next call\n",
              "  // to uploadFilesContinue from Python.\n",
              "  outputElement.steps = steps;\n",
              "\n",
              "  return _uploadFilesContinue(outputId);\n",
              "}\n",
              "\n",
              "// This is roughly an async generator (not supported in the browser yet),\n",
              "// where there are multiple asynchronous steps and the Python side is going\n",
              "// to poll for completion of each step.\n",
              "// This uses a Promise to block the python side on completion of each step,\n",
              "// then passes the result of the previous step as the input to the next step.\n",
              "function _uploadFilesContinue(outputId) {\n",
              "  const outputElement = document.getElementById(outputId);\n",
              "  const steps = outputElement.steps;\n",
              "\n",
              "  const next = steps.next(outputElement.lastPromiseValue);\n",
              "  return Promise.resolve(next.value.promise).then((value) => {\n",
              "    // Cache the last promise value to make it available to the next\n",
              "    // step of the generator.\n",
              "    outputElement.lastPromiseValue = value;\n",
              "    return next.value.response;\n",
              "  });\n",
              "}\n",
              "\n",
              "/**\n",
              " * Generator function which is called between each async step of the upload\n",
              " * process.\n",
              " * @param {string} inputId Element ID of the input file picker element.\n",
              " * @param {string} outputId Element ID of the output display.\n",
              " * @return {!Iterable<!Object>} Iterable of next steps.\n",
              " */\n",
              "function* uploadFilesStep(inputId, outputId) {\n",
              "  const inputElement = document.getElementById(inputId);\n",
              "  inputElement.disabled = false;\n",
              "\n",
              "  const outputElement = document.getElementById(outputId);\n",
              "  outputElement.innerHTML = '';\n",
              "\n",
              "  const pickedPromise = new Promise((resolve) => {\n",
              "    inputElement.addEventListener('change', (e) => {\n",
              "      resolve(e.target.files);\n",
              "    });\n",
              "  });\n",
              "\n",
              "  const cancel = document.createElement('button');\n",
              "  inputElement.parentElement.appendChild(cancel);\n",
              "  cancel.textContent = 'Cancel upload';\n",
              "  const cancelPromise = new Promise((resolve) => {\n",
              "    cancel.onclick = () => {\n",
              "      resolve(null);\n",
              "    };\n",
              "  });\n",
              "\n",
              "  // Wait for the user to pick the files.\n",
              "  const files = yield {\n",
              "    promise: Promise.race([pickedPromise, cancelPromise]),\n",
              "    response: {\n",
              "      action: 'starting',\n",
              "    }\n",
              "  };\n",
              "\n",
              "  cancel.remove();\n",
              "\n",
              "  // Disable the input element since further picks are not allowed.\n",
              "  inputElement.disabled = true;\n",
              "\n",
              "  if (!files) {\n",
              "    return {\n",
              "      response: {\n",
              "        action: 'complete',\n",
              "      }\n",
              "    };\n",
              "  }\n",
              "\n",
              "  for (const file of files) {\n",
              "    const li = document.createElement('li');\n",
              "    li.append(span(file.name, {fontWeight: 'bold'}));\n",
              "    li.append(span(\n",
              "        `(${file.type || 'n/a'}) - ${file.size} bytes, ` +\n",
              "        `last modified: ${\n",
              "            file.lastModifiedDate ? file.lastModifiedDate.toLocaleDateString() :\n",
              "                                    'n/a'} - `));\n",
              "    const percent = span('0% done');\n",
              "    li.appendChild(percent);\n",
              "\n",
              "    outputElement.appendChild(li);\n",
              "\n",
              "    const fileDataPromise = new Promise((resolve) => {\n",
              "      const reader = new FileReader();\n",
              "      reader.onload = (e) => {\n",
              "        resolve(e.target.result);\n",
              "      };\n",
              "      reader.readAsArrayBuffer(file);\n",
              "    });\n",
              "    // Wait for the data to be ready.\n",
              "    let fileData = yield {\n",
              "      promise: fileDataPromise,\n",
              "      response: {\n",
              "        action: 'continue',\n",
              "      }\n",
              "    };\n",
              "\n",
              "    // Use a chunked sending to avoid message size limits. See b/62115660.\n",
              "    let position = 0;\n",
              "    do {\n",
              "      const length = Math.min(fileData.byteLength - position, MAX_PAYLOAD_SIZE);\n",
              "      const chunk = new Uint8Array(fileData, position, length);\n",
              "      position += length;\n",
              "\n",
              "      const base64 = btoa(String.fromCharCode.apply(null, chunk));\n",
              "      yield {\n",
              "        response: {\n",
              "          action: 'append',\n",
              "          file: file.name,\n",
              "          data: base64,\n",
              "        },\n",
              "      };\n",
              "\n",
              "      let percentDone = fileData.byteLength === 0 ?\n",
              "          100 :\n",
              "          Math.round((position / fileData.byteLength) * 100);\n",
              "      percent.textContent = `${percentDone}% done`;\n",
              "\n",
              "    } while (position < fileData.byteLength);\n",
              "  }\n",
              "\n",
              "  // All done.\n",
              "  yield {\n",
              "    response: {\n",
              "      action: 'complete',\n",
              "    }\n",
              "  };\n",
              "}\n",
              "\n",
              "scope.google = scope.google || {};\n",
              "scope.google.colab = scope.google.colab || {};\n",
              "scope.google.colab._files = {\n",
              "  _uploadFiles,\n",
              "  _uploadFilesContinue,\n",
              "};\n",
              "})(self);\n",
              "</script> "
            ]
          },
          "metadata": {}
        },
        {
          "output_type": "stream",
          "name": "stdout",
          "text": [
            "Saving agi.txt to agi (2).txt\n"
          ]
        }
      ]
    },
    {
      "cell_type": "code",
      "source": [
        "#2.Read and displayed this file with Python program.\n",
        "f=open('agi.txt', 'r', encoding='utf8', errors='ignore')\n",
        "content=f.read()\n"
      ],
      "metadata": {
        "id": "yMtOOleHBh1e"
      },
      "execution_count": 15,
      "outputs": []
    },
    {
      "cell_type": "code",
      "source": [
        "#3. Extracted sentences and words from this file.\n",
        "totw=[]\n",
        "sentnc=nltk.sent_tokenize(content)\n",
        "for echsntc in sentnc:\n",
        "  totw=totw+nltk.word_tokenize(echsntc)\n",
        "print(\"Sentences: \",sentnc)\n",
        "print(\"words: \",totw)\n",
        "print(\"Total no. of sentences\",len(sentnc))\n",
        "print(len(set(totw)))"
      ],
      "metadata": {
        "colab": {
          "base_uri": "https://localhost:8080/"
        },
        "id": "2jCSG-AhHYIB",
        "outputId": "eb535712-2311-49d9-e621-bb69f08d8280"
      },
      "execution_count": 16,
      "outputs": [
        {
          "output_type": "stream",
          "name": "stdout",
          "text": [
            "Sentences:  ['Artificial general intelligence (AGI) is a field of theoretical AI research that attempts tot create software with human-like intelligence and the ability tot self-teach.', 'The aim is for the software tot be able tot perform tasks that it is not necessarily trained or developed for.', 'Current artificial intelligence (AI) technologies all function within a set of pre-determined parameters.', 'For example, AI models trained in image recognition and generation cannot build websites.', 'AGI is a theoretical pursuit tot develop AI systems that possess autonomous self-control, a reasonable degree of self-understanding, and the ability tot learn new skills.', 'It can solve complex problems in settings and contexts that were not taught tot it at the time of its creation.', 'AGI with human abilities remains a theoretical concept and research goal.']\n",
            "words:  ['Artificial', 'general', 'intelligence', '(', 'AGI', ')', 'is', 'a', 'field', 'of', 'theoretical', 'AI', 'research', 'that', 'attempts', 'tot', 'create', 'software', 'with', 'human-like', 'intelligence', 'and', 'the', 'ability', 'tot', 'self-teach', '.', 'The', 'aim', 'is', 'for', 'the', 'software', 'tot', 'be', 'able', 'tot', 'perform', 'tasks', 'that', 'it', 'is', 'not', 'necessarily', 'trained', 'or', 'developed', 'for', '.', 'Current', 'artificial', 'intelligence', '(', 'AI', ')', 'technologies', 'all', 'function', 'within', 'a', 'set', 'of', 'pre-determined', 'parameters', '.', 'For', 'example', ',', 'AI', 'models', 'trained', 'in', 'image', 'recognition', 'and', 'generation', 'can', 'not', 'build', 'websites', '.', 'AGI', 'is', 'a', 'theoretical', 'pursuit', 'tot', 'develop', 'AI', 'systems', 'that', 'possess', 'autonomous', 'self-control', ',', 'a', 'reasonable', 'degree', 'of', 'self-understanding', ',', 'and', 'the', 'ability', 'tot', 'learn', 'new', 'skills', '.', 'It', 'can', 'solve', 'complex', 'problems', 'in', 'settings', 'and', 'contexts', 'that', 'were', 'not', 'taught', 'tot', 'it', 'at', 'the', 'time', 'of', 'its', 'creation', '.', 'AGI', 'with', 'human', 'abilities', 'remains', 'a', 'theoretical', 'concept', 'and', 'research', 'goal', '.']\n",
            "Total no. of sentences 7\n",
            "87\n"
          ]
        }
      ]
    },
    {
      "cell_type": "code",
      "source": [
        "#importing package to remove stop words\n",
        "nltk.download('stopwords')\n",
        "from nltk.corpus import stopwords\n",
        "stpw=stopwords.words('english')\n"
      ],
      "metadata": {
        "colab": {
          "base_uri": "https://localhost:8080/"
        },
        "id": "JgP1_j7pDAKp",
        "outputId": "ee7bc846-9604-431b-d964-e6bf23633688"
      },
      "execution_count": 17,
      "outputs": [
        {
          "output_type": "stream",
          "name": "stderr",
          "text": [
            "[nltk_data] Downloading package stopwords to /root/nltk_data...\n",
            "[nltk_data]   Package stopwords is already up-to-date!\n"
          ]
        }
      ]
    },
    {
      "cell_type": "code",
      "source": [
        "#4. There are any stop-words, removed them.\n",
        "stpwrd=[]\n",
        "nonstpwrd=[]\n",
        "for wrd in totw:\n",
        "  if wrd in stpw:\n",
        "    stpwrd.append(wrd)\n",
        "  else:\n",
        "    nonstpwrd.append(wrd)\n",
        "print(\"stopword list\", stpwrd)\n",
        "print(\"Non stop words list\", nonstpwrd)\n",
        "\n",
        "#5. Count number of stop words and non stop-words\n",
        "print(\"Length of stopwords:\", len(stpwrd))\n",
        "print(\"Length of non stop words\", len(nonstpwrd))"
      ],
      "metadata": {
        "colab": {
          "base_uri": "https://localhost:8080/"
        },
        "id": "3aIzHzYAE8oE",
        "outputId": "7aa54ba7-bb65-4c86-c47d-7f420ffad3b8"
      },
      "execution_count": 18,
      "outputs": [
        {
          "output_type": "stream",
          "name": "stdout",
          "text": [
            "stopword list ['is', 'a', 'of', 'that', 'with', 'and', 'the', 'is', 'for', 'the', 'be', 'that', 'it', 'is', 'not', 'or', 'for', 'all', 'a', 'of', 'in', 'and', 'can', 'not', 'is', 'a', 'that', 'a', 'of', 'and', 'the', 'can', 'in', 'and', 'that', 'were', 'not', 'it', 'at', 'the', 'of', 'its', 'with', 'a', 'and']\n",
            "Non stop words list ['Artificial', 'general', 'intelligence', '(', 'AGI', ')', 'field', 'theoretical', 'AI', 'research', 'attempts', 'tot', 'create', 'software', 'human-like', 'intelligence', 'ability', 'tot', 'self-teach', '.', 'The', 'aim', 'software', 'tot', 'able', 'tot', 'perform', 'tasks', 'necessarily', 'trained', 'developed', '.', 'Current', 'artificial', 'intelligence', '(', 'AI', ')', 'technologies', 'function', 'within', 'set', 'pre-determined', 'parameters', '.', 'For', 'example', ',', 'AI', 'models', 'trained', 'image', 'recognition', 'generation', 'build', 'websites', '.', 'AGI', 'theoretical', 'pursuit', 'tot', 'develop', 'AI', 'systems', 'possess', 'autonomous', 'self-control', ',', 'reasonable', 'degree', 'self-understanding', ',', 'ability', 'tot', 'learn', 'new', 'skills', '.', 'It', 'solve', 'complex', 'problems', 'settings', 'contexts', 'taught', 'tot', 'time', 'creation', '.', 'AGI', 'human', 'abilities', 'remains', 'theoretical', 'concept', 'research', 'goal', '.']\n",
            "Length of stopwords: 45\n",
            "Length of non stop words 98\n"
          ]
        }
      ]
    },
    {
      "cell_type": "code",
      "source": [
        "from nltk.probability import FreqDist\n",
        "fdist=FreqDist(nonstpwrd)\n",
        "print(fdist)"
      ],
      "metadata": {
        "colab": {
          "base_uri": "https://localhost:8080/"
        },
        "id": "4g17bi4pGaiB",
        "outputId": "969e5f43-8e34-48f4-e725-3a880922bbe5"
      },
      "execution_count": 19,
      "outputs": [
        {
          "output_type": "stream",
          "name": "stdout",
          "text": [
            "<FreqDist with 69 samples and 98 outcomes>\n"
          ]
        }
      ]
    },
    {
      "cell_type": "code",
      "source": [
        "fdist.tabulate()"
      ],
      "metadata": {
        "colab": {
          "base_uri": "https://localhost:8080/"
        },
        "id": "RFBjUNJxGxnG",
        "outputId": "a35440a8-59c1-4a41-9268-75a2132b87b9"
      },
      "execution_count": 20,
      "outputs": [
        {
          "output_type": "stream",
          "name": "stdout",
          "text": [
            "               tot                  .                 AI       intelligence                AGI        theoretical                  ,                  (                  )           research           software            ability            trained         Artificial            general              field           attempts             create         human-like         self-teach                The                aim               able            perform              tasks        necessarily          developed            Current         artificial       technologies           function             within                set     pre-determined         parameters                For            example             models              image        recognition         generation              build           websites            pursuit            develop            systems            possess         autonomous       self-control         reasonable             degree self-understanding              learn                new             skills                 It              solve            complex           problems           settings           contexts             taught               time           creation              human          abilities            remains            concept               goal \n",
            "                 7                  7                  4                  3                  3                  3                  3                  2                  2                  2                  2                  2                  2                  1                  1                  1                  1                  1                  1                  1                  1                  1                  1                  1                  1                  1                  1                  1                  1                  1                  1                  1                  1                  1                  1                  1                  1                  1                  1                  1                  1                  1                  1                  1                  1                  1                  1                  1                  1                  1                  1                  1                  1                  1                  1                  1                  1                  1                  1                  1                  1                  1                  1                  1                  1                  1                  1                  1                  1 \n"
          ]
        }
      ]
    },
    {
      "cell_type": "code",
      "source": [
        "fdist.max()"
      ],
      "metadata": {
        "colab": {
          "base_uri": "https://localhost:8080/",
          "height": 36
        },
        "id": "XhZgylDBIKj_",
        "outputId": "7f09eec8-1315-4328-85f3-97b8acfa592c"
      },
      "execution_count": 21,
      "outputs": [
        {
          "output_type": "execute_result",
          "data": {
            "text/plain": [
              "'tot'"
            ],
            "application/vnd.google.colaboratory.intrinsic+json": {
              "type": "string"
            }
          },
          "metadata": {},
          "execution_count": 21
        }
      ]
    },
    {
      "cell_type": "code",
      "source": [
        "minf=min(fdist.values())\n",
        "minf"
      ],
      "metadata": {
        "id": "oA1wCd14IRnv",
        "colab": {
          "base_uri": "https://localhost:8080/"
        },
        "outputId": "ba446f32-931f-4e0b-9a03-3f171aee8556"
      },
      "execution_count": 30,
      "outputs": [
        {
          "output_type": "execute_result",
          "data": {
            "text/plain": [
              "1"
            ]
          },
          "metadata": {},
          "execution_count": 30
        }
      ]
    },
    {
      "cell_type": "code",
      "source": [
        "!pip install translate\n",
        "from translate import Translator\n",
        "ln=Translator(to_lang=\"ta\")\n",
        "for i in range(1,10):\n",
        "  tamil_txt=ln.translate(nonstpwrd[i])\n",
        "  print(tamil_txt)\n"
      ],
      "metadata": {
        "id": "T5VymY67stRV",
        "colab": {
          "base_uri": "https://localhost:8080/"
        },
        "outputId": "5fc034e6-9791-4f65-ecc7-a23e5d41b0ae"
      },
      "execution_count": 23,
      "outputs": [
        {
          "output_type": "stream",
          "name": "stdout",
          "text": [
            "Collecting translate\n",
            "  Downloading translate-3.6.1-py2.py3-none-any.whl (12 kB)\n",
            "Requirement already satisfied: click in /usr/local/lib/python3.10/dist-packages (from translate) (8.1.7)\n",
            "Requirement already satisfied: lxml in /usr/local/lib/python3.10/dist-packages (from translate) (4.9.4)\n",
            "Requirement already satisfied: requests in /usr/local/lib/python3.10/dist-packages (from translate) (2.31.0)\n",
            "Collecting libretranslatepy==2.1.1 (from translate)\n",
            "  Downloading libretranslatepy-2.1.1-py3-none-any.whl (3.2 kB)\n",
            "Requirement already satisfied: charset-normalizer<4,>=2 in /usr/local/lib/python3.10/dist-packages (from requests->translate) (3.3.2)\n",
            "Requirement already satisfied: idna<4,>=2.5 in /usr/local/lib/python3.10/dist-packages (from requests->translate) (3.6)\n",
            "Requirement already satisfied: urllib3<3,>=1.21.1 in /usr/local/lib/python3.10/dist-packages (from requests->translate) (2.0.7)\n",
            "Requirement already satisfied: certifi>=2017.4.17 in /usr/local/lib/python3.10/dist-packages (from requests->translate) (2024.2.2)\n",
            "Installing collected packages: libretranslatepy, translate\n",
            "Successfully installed libretranslatepy-2.1.1 translate-3.6.1\n",
            "பொது\n",
            "arivu\n",
            "(\n",
            "AGI\n",
            ")\n",
            "புலம்\n",
            "கோட்பாடு\n",
            "AI\n",
            "ஆய்வு\n"
          ]
        }
      ]
    },
    {
      "cell_type": "code",
      "source": [
        "#7. If there are any spelling mistakes, remove the identified ones.\n"
      ],
      "metadata": {
        "id": "MmVP5TSas3Iy"
      },
      "execution_count": 24,
      "outputs": []
    },
    {
      "cell_type": "code",
      "source": [
        "#importing package to remove stop words\n",
        "\n",
        "from nltk.corpus import stopwords\n",
        "stpw=stopwords.words('english')\n",
        "print(stpw)\n",
        "stpw.extend(['tot'])\n",
        "print(stpw)"
      ],
      "metadata": {
        "colab": {
          "base_uri": "https://localhost:8080/"
        },
        "outputId": "2401af34-5f1e-4656-cc8e-2576150d1c2c",
        "id": "eDJ_YK5jvwjE"
      },
      "execution_count": 25,
      "outputs": [
        {
          "output_type": "stream",
          "name": "stdout",
          "text": [
            "['i', 'me', 'my', 'myself', 'we', 'our', 'ours', 'ourselves', 'you', \"you're\", \"you've\", \"you'll\", \"you'd\", 'your', 'yours', 'yourself', 'yourselves', 'he', 'him', 'his', 'himself', 'she', \"she's\", 'her', 'hers', 'herself', 'it', \"it's\", 'its', 'itself', 'they', 'them', 'their', 'theirs', 'themselves', 'what', 'which', 'who', 'whom', 'this', 'that', \"that'll\", 'these', 'those', 'am', 'is', 'are', 'was', 'were', 'be', 'been', 'being', 'have', 'has', 'had', 'having', 'do', 'does', 'did', 'doing', 'a', 'an', 'the', 'and', 'but', 'if', 'or', 'because', 'as', 'until', 'while', 'of', 'at', 'by', 'for', 'with', 'about', 'against', 'between', 'into', 'through', 'during', 'before', 'after', 'above', 'below', 'to', 'from', 'up', 'down', 'in', 'out', 'on', 'off', 'over', 'under', 'again', 'further', 'then', 'once', 'here', 'there', 'when', 'where', 'why', 'how', 'all', 'any', 'both', 'each', 'few', 'more', 'most', 'other', 'some', 'such', 'no', 'nor', 'not', 'only', 'own', 'same', 'so', 'than', 'too', 'very', 's', 't', 'can', 'will', 'just', 'don', \"don't\", 'should', \"should've\", 'now', 'd', 'll', 'm', 'o', 're', 've', 'y', 'ain', 'aren', \"aren't\", 'couldn', \"couldn't\", 'didn', \"didn't\", 'doesn', \"doesn't\", 'hadn', \"hadn't\", 'hasn', \"hasn't\", 'haven', \"haven't\", 'isn', \"isn't\", 'ma', 'mightn', \"mightn't\", 'mustn', \"mustn't\", 'needn', \"needn't\", 'shan', \"shan't\", 'shouldn', \"shouldn't\", 'wasn', \"wasn't\", 'weren', \"weren't\", 'won', \"won't\", 'wouldn', \"wouldn't\"]\n",
            "['i', 'me', 'my', 'myself', 'we', 'our', 'ours', 'ourselves', 'you', \"you're\", \"you've\", \"you'll\", \"you'd\", 'your', 'yours', 'yourself', 'yourselves', 'he', 'him', 'his', 'himself', 'she', \"she's\", 'her', 'hers', 'herself', 'it', \"it's\", 'its', 'itself', 'they', 'them', 'their', 'theirs', 'themselves', 'what', 'which', 'who', 'whom', 'this', 'that', \"that'll\", 'these', 'those', 'am', 'is', 'are', 'was', 'were', 'be', 'been', 'being', 'have', 'has', 'had', 'having', 'do', 'does', 'did', 'doing', 'a', 'an', 'the', 'and', 'but', 'if', 'or', 'because', 'as', 'until', 'while', 'of', 'at', 'by', 'for', 'with', 'about', 'against', 'between', 'into', 'through', 'during', 'before', 'after', 'above', 'below', 'to', 'from', 'up', 'down', 'in', 'out', 'on', 'off', 'over', 'under', 'again', 'further', 'then', 'once', 'here', 'there', 'when', 'where', 'why', 'how', 'all', 'any', 'both', 'each', 'few', 'more', 'most', 'other', 'some', 'such', 'no', 'nor', 'not', 'only', 'own', 'same', 'so', 'than', 'too', 'very', 's', 't', 'can', 'will', 'just', 'don', \"don't\", 'should', \"should've\", 'now', 'd', 'll', 'm', 'o', 're', 've', 'y', 'ain', 'aren', \"aren't\", 'couldn', \"couldn't\", 'didn', \"didn't\", 'doesn', \"doesn't\", 'hadn', \"hadn't\", 'hasn', \"hasn't\", 'haven', \"haven't\", 'isn', \"isn't\", 'ma', 'mightn', \"mightn't\", 'mustn', \"mustn't\", 'needn', \"needn't\", 'shan', \"shan't\", 'shouldn', \"shouldn't\", 'wasn', \"wasn't\", 'weren', \"weren't\", 'won', \"won't\", 'wouldn', \"wouldn't\", 'tot']\n"
          ]
        }
      ]
    },
    {
      "cell_type": "code",
      "source": [
        "# 'tot' is considered as stop-words and removed from non stop word.\n",
        "stpwrd=[]\n",
        "nonstpwrd=[]\n",
        "for wrd in totw:\n",
        "  if wrd in stpw:\n",
        "    stpwrd.append(wrd)\n",
        "  else:\n",
        "    nonstpwrd.append(wrd)\n",
        "print(\"stopword list\", stpwrd)\n",
        "print(\"Non stop words list\", nonstpwrd)\n"
      ],
      "metadata": {
        "colab": {
          "base_uri": "https://localhost:8080/"
        },
        "outputId": "2531e983-5e72-411c-c746-bf8356ab45f1",
        "id": "GXchFfcqvwjE"
      },
      "execution_count": 26,
      "outputs": [
        {
          "output_type": "stream",
          "name": "stdout",
          "text": [
            "stopword list ['is', 'a', 'of', 'that', 'tot', 'with', 'and', 'the', 'tot', 'is', 'for', 'the', 'tot', 'be', 'tot', 'that', 'it', 'is', 'not', 'or', 'for', 'all', 'a', 'of', 'in', 'and', 'can', 'not', 'is', 'a', 'tot', 'that', 'a', 'of', 'and', 'the', 'tot', 'can', 'in', 'and', 'that', 'were', 'not', 'tot', 'it', 'at', 'the', 'of', 'its', 'with', 'a', 'and']\n",
            "Non stop words list ['Artificial', 'general', 'intelligence', '(', 'AGI', ')', 'field', 'theoretical', 'AI', 'research', 'attempts', 'create', 'software', 'human-like', 'intelligence', 'ability', 'self-teach', '.', 'The', 'aim', 'software', 'able', 'perform', 'tasks', 'necessarily', 'trained', 'developed', '.', 'Current', 'artificial', 'intelligence', '(', 'AI', ')', 'technologies', 'function', 'within', 'set', 'pre-determined', 'parameters', '.', 'For', 'example', ',', 'AI', 'models', 'trained', 'image', 'recognition', 'generation', 'build', 'websites', '.', 'AGI', 'theoretical', 'pursuit', 'develop', 'AI', 'systems', 'possess', 'autonomous', 'self-control', ',', 'reasonable', 'degree', 'self-understanding', ',', 'ability', 'learn', 'new', 'skills', '.', 'It', 'solve', 'complex', 'problems', 'settings', 'contexts', 'taught', 'time', 'creation', '.', 'AGI', 'human', 'abilities', 'remains', 'theoretical', 'concept', 'research', 'goal', '.']\n"
          ]
        }
      ]
    },
    {
      "cell_type": "code",
      "source": [],
      "metadata": {
        "id": "NHgWmEAyxt58"
      },
      "execution_count": 26,
      "outputs": []
    }
  ]
}